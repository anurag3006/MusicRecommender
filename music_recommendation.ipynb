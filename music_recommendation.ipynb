{
 "cells": [
  {
   "cell_type": "code",
   "execution_count": null,
   "id": "42a6087d",
   "metadata": {},
   "outputs": [],
   "source": [
    "!pip install pandas"
   ]
  },
  {
   "cell_type": "code",
   "execution_count": 1,
   "id": "3d11009f",
   "metadata": {},
   "outputs": [],
   "source": [
    "#import all libraries\n",
    "import numpy as np\n",
    "import pandas as pd"
   ]
  },
  {
   "cell_type": "code",
   "execution_count": null,
   "id": "430e12e9",
   "metadata": {},
   "outputs": [],
   "source": [
    "#To find encoding of a csv file\n",
    "\n",
    "from chardet.universaldetector import UniversalDetector\n",
    "usock = open('image_song_links.csv', 'rb')\n",
    "detector = UniversalDetector()\n",
    "for line in usock.readlines():\n",
    "    detector.feed(line)\n",
    "    if detector.done: break\n",
    "detector.close()\n",
    "usock.close()\n",
    "print (detector.result)"
   ]
  },
  {
   "cell_type": "code",
   "execution_count": 2,
   "id": "1e10b30b",
   "metadata": {},
   "outputs": [],
   "source": [
    "raw_data = pd.read_csv('tcc_ceds_music.csv')"
   ]
  },
  {
   "cell_type": "code",
   "execution_count": 3,
   "id": "d8509027",
   "metadata": {},
   "outputs": [
    {
     "data": {
      "text/html": [
       "<div>\n",
       "<style scoped>\n",
       "    .dataframe tbody tr th:only-of-type {\n",
       "        vertical-align: middle;\n",
       "    }\n",
       "\n",
       "    .dataframe tbody tr th {\n",
       "        vertical-align: top;\n",
       "    }\n",
       "\n",
       "    .dataframe thead th {\n",
       "        text-align: right;\n",
       "    }\n",
       "</style>\n",
       "<table border=\"1\" class=\"dataframe\">\n",
       "  <thead>\n",
       "    <tr style=\"text-align: right;\">\n",
       "      <th></th>\n",
       "      <th>Unnamed: 0</th>\n",
       "      <th>artist_name</th>\n",
       "      <th>track_name</th>\n",
       "      <th>release_date</th>\n",
       "      <th>genre</th>\n",
       "      <th>lyrics</th>\n",
       "      <th>len</th>\n",
       "      <th>dating</th>\n",
       "      <th>violence</th>\n",
       "      <th>world/life</th>\n",
       "      <th>night/time</th>\n",
       "      <th>shake the audience</th>\n",
       "      <th>family/gospel</th>\n",
       "      <th>romantic</th>\n",
       "      <th>communication</th>\n",
       "      <th>obscene</th>\n",
       "      <th>music</th>\n",
       "      <th>movement/places</th>\n",
       "      <th>light/visual perceptions</th>\n",
       "      <th>family/spiritual</th>\n",
       "      <th>like/girls</th>\n",
       "      <th>sadness</th>\n",
       "      <th>feelings</th>\n",
       "      <th>danceability</th>\n",
       "      <th>loudness</th>\n",
       "      <th>acousticness</th>\n",
       "      <th>instrumentalness</th>\n",
       "      <th>valence</th>\n",
       "      <th>energy</th>\n",
       "      <th>topic</th>\n",
       "      <th>age</th>\n",
       "    </tr>\n",
       "  </thead>\n",
       "  <tbody>\n",
       "    <tr>\n",
       "      <th>0</th>\n",
       "      <td>0</td>\n",
       "      <td>mukesh</td>\n",
       "      <td>mohabbat bhi jhoothi</td>\n",
       "      <td>1950</td>\n",
       "      <td>pop</td>\n",
       "      <td>hold time feel break feel untrue convince spea...</td>\n",
       "      <td>95</td>\n",
       "      <td>0.000598</td>\n",
       "      <td>0.063746</td>\n",
       "      <td>0.000598</td>\n",
       "      <td>0.000598</td>\n",
       "      <td>0.000598</td>\n",
       "      <td>0.048857</td>\n",
       "      <td>0.017104</td>\n",
       "      <td>0.263751</td>\n",
       "      <td>0.000598</td>\n",
       "      <td>0.039288</td>\n",
       "      <td>0.000598</td>\n",
       "      <td>0.000598</td>\n",
       "      <td>0.000598</td>\n",
       "      <td>0.000598</td>\n",
       "      <td>0.380299</td>\n",
       "      <td>0.117175</td>\n",
       "      <td>0.357739</td>\n",
       "      <td>0.454119</td>\n",
       "      <td>0.997992</td>\n",
       "      <td>0.901822</td>\n",
       "      <td>0.339448</td>\n",
       "      <td>0.13711</td>\n",
       "      <td>sadness</td>\n",
       "      <td>1.0</td>\n",
       "    </tr>\n",
       "  </tbody>\n",
       "</table>\n",
       "</div>"
      ],
      "text/plain": [
       "   Unnamed: 0 artist_name            track_name  release_date genre   \n",
       "0           0      mukesh  mohabbat bhi jhoothi          1950   pop  \\\n",
       "\n",
       "                                              lyrics  len    dating  violence   \n",
       "0  hold time feel break feel untrue convince spea...   95  0.000598  0.063746  \\\n",
       "\n",
       "   world/life  night/time  shake the audience  family/gospel  romantic   \n",
       "0    0.000598    0.000598            0.000598       0.048857  0.017104  \\\n",
       "\n",
       "   communication   obscene     music  movement/places   \n",
       "0       0.263751  0.000598  0.039288         0.000598  \\\n",
       "\n",
       "   light/visual perceptions  family/spiritual  like/girls   sadness  feelings   \n",
       "0                  0.000598          0.000598    0.000598  0.380299  0.117175  \\\n",
       "\n",
       "   danceability  loudness  acousticness  instrumentalness   valence   energy   \n",
       "0      0.357739  0.454119      0.997992          0.901822  0.339448  0.13711  \\\n",
       "\n",
       "     topic  age  \n",
       "0  sadness  1.0  "
      ]
     },
     "execution_count": 3,
     "metadata": {},
     "output_type": "execute_result"
    }
   ],
   "source": [
    "pd.set_option('display.max_columns', None)\n",
    "raw_data.head(1)"
   ]
  },
  {
   "cell_type": "code",
   "execution_count": null,
   "id": "de75ca84",
   "metadata": {},
   "outputs": [],
   "source": [
    "raw_data.isnull().sum()"
   ]
  },
  {
   "cell_type": "code",
   "execution_count": null,
   "id": "8becc044",
   "metadata": {},
   "outputs": [],
   "source": [
    "raw_data.duplicated().sum()"
   ]
  },
  {
   "cell_type": "code",
   "execution_count": 10,
   "id": "61f1fc38",
   "metadata": {},
   "outputs": [],
   "source": [
    "raw_data = raw_data[['artist_name','track_name','release_date','genre','lyrics','topic']]"
   ]
  },
  {
   "cell_type": "code",
   "execution_count": 11,
   "id": "9e56daf1",
   "metadata": {},
   "outputs": [
    {
     "data": {
      "text/html": [
       "<div>\n",
       "<style scoped>\n",
       "    .dataframe tbody tr th:only-of-type {\n",
       "        vertical-align: middle;\n",
       "    }\n",
       "\n",
       "    .dataframe tbody tr th {\n",
       "        vertical-align: top;\n",
       "    }\n",
       "\n",
       "    .dataframe thead th {\n",
       "        text-align: right;\n",
       "    }\n",
       "</style>\n",
       "<table border=\"1\" class=\"dataframe\">\n",
       "  <thead>\n",
       "    <tr style=\"text-align: right;\">\n",
       "      <th></th>\n",
       "      <th>artist_name</th>\n",
       "      <th>track_name</th>\n",
       "      <th>release_date</th>\n",
       "      <th>genre</th>\n",
       "      <th>lyrics</th>\n",
       "      <th>topic</th>\n",
       "    </tr>\n",
       "  </thead>\n",
       "  <tbody>\n",
       "    <tr>\n",
       "      <th>0</th>\n",
       "      <td>mukesh</td>\n",
       "      <td>mohabbat bhi jhoothi</td>\n",
       "      <td>1950</td>\n",
       "      <td>pop</td>\n",
       "      <td>hold time feel break feel untrue convince spea...</td>\n",
       "      <td>sadness</td>\n",
       "    </tr>\n",
       "    <tr>\n",
       "      <th>1</th>\n",
       "      <td>frankie laine</td>\n",
       "      <td>i believe</td>\n",
       "      <td>1950</td>\n",
       "      <td>pop</td>\n",
       "      <td>believe drop rain fall grow believe darkest ni...</td>\n",
       "      <td>world/life</td>\n",
       "    </tr>\n",
       "    <tr>\n",
       "      <th>2</th>\n",
       "      <td>johnnie ray</td>\n",
       "      <td>cry</td>\n",
       "      <td>1950</td>\n",
       "      <td>pop</td>\n",
       "      <td>sweetheart send letter goodbye secret feel bet...</td>\n",
       "      <td>music</td>\n",
       "    </tr>\n",
       "    <tr>\n",
       "      <th>3</th>\n",
       "      <td>pérez prado</td>\n",
       "      <td>patricia</td>\n",
       "      <td>1950</td>\n",
       "      <td>pop</td>\n",
       "      <td>kiss lips want stroll charm mambo chacha merin...</td>\n",
       "      <td>romantic</td>\n",
       "    </tr>\n",
       "    <tr>\n",
       "      <th>4</th>\n",
       "      <td>giorgos papadopoulos</td>\n",
       "      <td>apopse eida oneiro</td>\n",
       "      <td>1950</td>\n",
       "      <td>pop</td>\n",
       "      <td>till darling till matter know till dream live ...</td>\n",
       "      <td>romantic</td>\n",
       "    </tr>\n",
       "  </tbody>\n",
       "</table>\n",
       "</div>"
      ],
      "text/plain": [
       "            artist_name            track_name  release_date genre   \n",
       "0                mukesh  mohabbat bhi jhoothi          1950   pop  \\\n",
       "1         frankie laine             i believe          1950   pop   \n",
       "2           johnnie ray                   cry          1950   pop   \n",
       "3           pérez prado              patricia          1950   pop   \n",
       "4  giorgos papadopoulos    apopse eida oneiro          1950   pop   \n",
       "\n",
       "                                              lyrics       topic  \n",
       "0  hold time feel break feel untrue convince spea...     sadness  \n",
       "1  believe drop rain fall grow believe darkest ni...  world/life  \n",
       "2  sweetheart send letter goodbye secret feel bet...       music  \n",
       "3  kiss lips want stroll charm mambo chacha merin...    romantic  \n",
       "4  till darling till matter know till dream live ...    romantic  "
      ]
     },
     "execution_count": 11,
     "metadata": {},
     "output_type": "execute_result"
    }
   ],
   "source": [
    "raw_data.head()"
   ]
  },
  {
   "cell_type": "code",
   "execution_count": 12,
   "id": "c65672b2",
   "metadata": {},
   "outputs": [],
   "source": [
    "music_data = pd.read_csv('music_link_image.csv')"
   ]
  },
  {
   "cell_type": "code",
   "execution_count": 13,
   "id": "24f61cb4",
   "metadata": {},
   "outputs": [
    {
     "data": {
      "text/html": [
       "<div>\n",
       "<style scoped>\n",
       "    .dataframe tbody tr th:only-of-type {\n",
       "        vertical-align: middle;\n",
       "    }\n",
       "\n",
       "    .dataframe tbody tr th {\n",
       "        vertical-align: top;\n",
       "    }\n",
       "\n",
       "    .dataframe thead th {\n",
       "        text-align: right;\n",
       "    }\n",
       "</style>\n",
       "<table border=\"1\" class=\"dataframe\">\n",
       "  <thead>\n",
       "    <tr style=\"text-align: right;\">\n",
       "      <th></th>\n",
       "      <th>index</th>\n",
       "      <th>artist_name</th>\n",
       "      <th>track_name</th>\n",
       "      <th>release_date</th>\n",
       "      <th>genre</th>\n",
       "      <th>lyrics</th>\n",
       "      <th>topic</th>\n",
       "      <th>spotify_link</th>\n",
       "      <th>image_link</th>\n",
       "      <th>Unnamed: 9</th>\n",
       "      <th>Unnamed: 10</th>\n",
       "      <th>Unnamed: 11</th>\n",
       "    </tr>\n",
       "  </thead>\n",
       "  <tbody>\n",
       "    <tr>\n",
       "      <th>0</th>\n",
       "      <td>0</td>\n",
       "      <td>mukesh</td>\n",
       "      <td>mohabbat bhi jhoothi</td>\n",
       "      <td>1950</td>\n",
       "      <td>pop</td>\n",
       "      <td>hold time feel break feel untrue convince spea...</td>\n",
       "      <td>sadness</td>\n",
       "      <td>https://open.spotify.com/track/4LABao9yb34Gfjb...</td>\n",
       "      <td>https://i.scdn.co/image/ab67616d0000b273abdad4...</td>\n",
       "      <td>NaN</td>\n",
       "      <td>NaN</td>\n",
       "      <td>NaN</td>\n",
       "    </tr>\n",
       "  </tbody>\n",
       "</table>\n",
       "</div>"
      ],
      "text/plain": [
       "   index artist_name            track_name  release_date genre   \n",
       "0      0      mukesh  mohabbat bhi jhoothi          1950   pop  \\\n",
       "\n",
       "                                              lyrics    topic   \n",
       "0  hold time feel break feel untrue convince spea...  sadness  \\\n",
       "\n",
       "                                        spotify_link   \n",
       "0  https://open.spotify.com/track/4LABao9yb34Gfjb...  \\\n",
       "\n",
       "                                          image_link  Unnamed: 9  Unnamed: 10   \n",
       "0  https://i.scdn.co/image/ab67616d0000b273abdad4...         NaN          NaN  \\\n",
       "\n",
       "   Unnamed: 11  \n",
       "0          NaN  "
      ]
     },
     "execution_count": 13,
     "metadata": {},
     "output_type": "execute_result"
    }
   ],
   "source": [
    "pd.set_option('display.max_columns', None)\n",
    "music_data.head(1)"
   ]
  },
  {
   "cell_type": "markdown",
   "id": "3d71bf4b",
   "metadata": {},
   "source": [
    "## Pre-processing"
   ]
  },
  {
   "cell_type": "code",
   "execution_count": 84,
   "id": "967088aa",
   "metadata": {},
   "outputs": [],
   "source": [
    "# index\n",
    "# artist_name\n",
    "# track_name\n",
    "# release_date\n",
    "# genre\n",
    "# lyrics\n",
    "# topic\n",
    "# spotify_link\n",
    "# image_link\n",
    "\n",
    "music_data = music_data[['index','artist_name','track_name','release_date','genre','lyrics','topic','spotify_link','image_link']]"
   ]
  },
  {
   "cell_type": "code",
   "execution_count": 85,
   "id": "ab5da741",
   "metadata": {},
   "outputs": [
    {
     "data": {
      "text/html": [
       "<div>\n",
       "<style scoped>\n",
       "    .dataframe tbody tr th:only-of-type {\n",
       "        vertical-align: middle;\n",
       "    }\n",
       "\n",
       "    .dataframe tbody tr th {\n",
       "        vertical-align: top;\n",
       "    }\n",
       "\n",
       "    .dataframe thead th {\n",
       "        text-align: right;\n",
       "    }\n",
       "</style>\n",
       "<table border=\"1\" class=\"dataframe\">\n",
       "  <thead>\n",
       "    <tr style=\"text-align: right;\">\n",
       "      <th></th>\n",
       "      <th>index</th>\n",
       "      <th>artist_name</th>\n",
       "      <th>track_name</th>\n",
       "      <th>release_date</th>\n",
       "      <th>genre</th>\n",
       "      <th>lyrics</th>\n",
       "      <th>topic</th>\n",
       "      <th>spotify_link</th>\n",
       "      <th>image_link</th>\n",
       "    </tr>\n",
       "  </thead>\n",
       "  <tbody>\n",
       "    <tr>\n",
       "      <th>0</th>\n",
       "      <td>0</td>\n",
       "      <td>mukesh</td>\n",
       "      <td>mohabbat bhi jhoothi</td>\n",
       "      <td>1950</td>\n",
       "      <td>pop</td>\n",
       "      <td>hold time feel break feel untrue convince spea...</td>\n",
       "      <td>sadness</td>\n",
       "      <td>https://open.spotify.com/track/4LABao9yb34Gfjb...</td>\n",
       "      <td>https://i.scdn.co/image/ab67616d0000b273abdad4...</td>\n",
       "    </tr>\n",
       "    <tr>\n",
       "      <th>1</th>\n",
       "      <td>1</td>\n",
       "      <td>frankielaine</td>\n",
       "      <td>i believe</td>\n",
       "      <td>1950</td>\n",
       "      <td>pop</td>\n",
       "      <td>believe drop rain fall grow believe darkest ni...</td>\n",
       "      <td>world/life</td>\n",
       "      <td>https://open.spotify.com/track/3FzkbFgVGdg4zqy...</td>\n",
       "      <td>https://i.scdn.co/image/ab67616d0000b273e193ef...</td>\n",
       "    </tr>\n",
       "    <tr>\n",
       "      <th>2</th>\n",
       "      <td>2</td>\n",
       "      <td>johnnieray</td>\n",
       "      <td>cry</td>\n",
       "      <td>1950</td>\n",
       "      <td>pop</td>\n",
       "      <td>sweetheart send letter goodbye secret feel bet...</td>\n",
       "      <td>music</td>\n",
       "      <td>https://open.spotify.com/track/4wnFpRgQu2gLN8d...</td>\n",
       "      <td>https://i.scdn.co/image/ab67616d0000b27320b60e...</td>\n",
       "    </tr>\n",
       "    <tr>\n",
       "      <th>3</th>\n",
       "      <td>3</td>\n",
       "      <td>pérezprado</td>\n",
       "      <td>patricia</td>\n",
       "      <td>1950</td>\n",
       "      <td>pop</td>\n",
       "      <td>kiss lips want stroll charm mambo chacha merin...</td>\n",
       "      <td>romantic</td>\n",
       "      <td>https://open.spotify.com/track/2bwhOdCOLgQ8v6x...</td>\n",
       "      <td>https://i.scdn.co/image/ab67616d0000b2733c5cd1...</td>\n",
       "    </tr>\n",
       "    <tr>\n",
       "      <th>4</th>\n",
       "      <td>4</td>\n",
       "      <td>giorgospapadopoulos</td>\n",
       "      <td>apopse eida oneiro</td>\n",
       "      <td>1950</td>\n",
       "      <td>pop</td>\n",
       "      <td>till darling till matter know till dream live ...</td>\n",
       "      <td>romantic</td>\n",
       "      <td>https://open.spotify.com/track/4ca9GU42IT0yopm...</td>\n",
       "      <td>https://i.scdn.co/image/ab67616d0000b273684f5e...</td>\n",
       "    </tr>\n",
       "    <tr>\n",
       "      <th>...</th>\n",
       "      <td>...</td>\n",
       "      <td>...</td>\n",
       "      <td>...</td>\n",
       "      <td>...</td>\n",
       "      <td>...</td>\n",
       "      <td>...</td>\n",
       "      <td>...</td>\n",
       "      <td>...</td>\n",
       "      <td>...</td>\n",
       "    </tr>\n",
       "    <tr>\n",
       "      <th>5061</th>\n",
       "      <td>5061</td>\n",
       "      <td>billytalent</td>\n",
       "      <td>fallen leaves</td>\n",
       "      <td>2006</td>\n",
       "      <td>pop</td>\n",
       "      <td>crook little lose fall leave fall leave fall l...</td>\n",
       "      <td>sadness</td>\n",
       "      <td>https://open.spotify.com/track/3jUTjCISntIUFL8...</td>\n",
       "      <td>https://i.scdn.co/image/ab67616d0000b27351ad16...</td>\n",
       "    </tr>\n",
       "    <tr>\n",
       "      <th>5062</th>\n",
       "      <td>5062</td>\n",
       "      <td>afi</td>\n",
       "      <td>love like winter</td>\n",
       "      <td>2006</td>\n",
       "      <td>pop</td>\n",
       "      <td>warn warmth turn away december like press lips...</td>\n",
       "      <td>violence</td>\n",
       "      <td>https://open.spotify.com/track/3cDE9Yn4GrsxSrl...</td>\n",
       "      <td>https://i.scdn.co/image/ab67616d0000b2736c050d...</td>\n",
       "    </tr>\n",
       "    <tr>\n",
       "      <th>5063</th>\n",
       "      <td>5063</td>\n",
       "      <td>billytalent</td>\n",
       "      <td>fallen leaves</td>\n",
       "      <td>2006</td>\n",
       "      <td>pop</td>\n",
       "      <td>crook little lose fall leave fall leave fall l...</td>\n",
       "      <td>sadness</td>\n",
       "      <td>https://open.spotify.com/track/3jUTjCISntIUFL8...</td>\n",
       "      <td>https://i.scdn.co/image/ab67616d0000b27351ad16...</td>\n",
       "    </tr>\n",
       "    <tr>\n",
       "      <th>5064</th>\n",
       "      <td>5064</td>\n",
       "      <td>afi</td>\n",
       "      <td>love like winter</td>\n",
       "      <td>2006</td>\n",
       "      <td>pop</td>\n",
       "      <td>warn warmth turn away december like press lips...</td>\n",
       "      <td>violence</td>\n",
       "      <td>https://open.spotify.com/track/3cDE9Yn4GrsxSrl...</td>\n",
       "      <td>https://i.scdn.co/image/ab67616d0000b2736c050d...</td>\n",
       "    </tr>\n",
       "    <tr>\n",
       "      <th>5065</th>\n",
       "      <td>5065</td>\n",
       "      <td>afi</td>\n",
       "      <td>love like winter</td>\n",
       "      <td>2006</td>\n",
       "      <td>pop</td>\n",
       "      <td>warn warmth turn away december like press lips...</td>\n",
       "      <td>violence</td>\n",
       "      <td>https://open.spotify.com/track/3cDE9Yn4GrsxSrl...</td>\n",
       "      <td>https://i.scdn.co/image/ab67616d0000b2736c050d...</td>\n",
       "    </tr>\n",
       "  </tbody>\n",
       "</table>\n",
       "<p>5066 rows × 9 columns</p>\n",
       "</div>"
      ],
      "text/plain": [
       "      index          artist_name            track_name  release_date genre   \n",
       "0         0               mukesh  mohabbat bhi jhoothi          1950   pop  \\\n",
       "1         1         frankielaine             i believe          1950   pop   \n",
       "2         2           johnnieray                   cry          1950   pop   \n",
       "3         3           pérezprado              patricia          1950   pop   \n",
       "4         4  giorgospapadopoulos    apopse eida oneiro          1950   pop   \n",
       "...     ...                  ...                   ...           ...   ...   \n",
       "5061   5061          billytalent         fallen leaves          2006   pop   \n",
       "5062   5062                  afi      love like winter          2006   pop   \n",
       "5063   5063          billytalent         fallen leaves          2006   pop   \n",
       "5064   5064                  afi      love like winter          2006   pop   \n",
       "5065   5065                  afi      love like winter          2006   pop   \n",
       "\n",
       "                                                 lyrics       topic   \n",
       "0     hold time feel break feel untrue convince spea...     sadness  \\\n",
       "1     believe drop rain fall grow believe darkest ni...  world/life   \n",
       "2     sweetheart send letter goodbye secret feel bet...       music   \n",
       "3     kiss lips want stroll charm mambo chacha merin...    romantic   \n",
       "4     till darling till matter know till dream live ...    romantic   \n",
       "...                                                 ...         ...   \n",
       "5061  crook little lose fall leave fall leave fall l...     sadness   \n",
       "5062  warn warmth turn away december like press lips...    violence   \n",
       "5063  crook little lose fall leave fall leave fall l...     sadness   \n",
       "5064  warn warmth turn away december like press lips...    violence   \n",
       "5065  warn warmth turn away december like press lips...    violence   \n",
       "\n",
       "                                           spotify_link   \n",
       "0     https://open.spotify.com/track/4LABao9yb34Gfjb...  \\\n",
       "1     https://open.spotify.com/track/3FzkbFgVGdg4zqy...   \n",
       "2     https://open.spotify.com/track/4wnFpRgQu2gLN8d...   \n",
       "3     https://open.spotify.com/track/2bwhOdCOLgQ8v6x...   \n",
       "4     https://open.spotify.com/track/4ca9GU42IT0yopm...   \n",
       "...                                                 ...   \n",
       "5061  https://open.spotify.com/track/3jUTjCISntIUFL8...   \n",
       "5062  https://open.spotify.com/track/3cDE9Yn4GrsxSrl...   \n",
       "5063  https://open.spotify.com/track/3jUTjCISntIUFL8...   \n",
       "5064  https://open.spotify.com/track/3cDE9Yn4GrsxSrl...   \n",
       "5065  https://open.spotify.com/track/3cDE9Yn4GrsxSrl...   \n",
       "\n",
       "                                             image_link  \n",
       "0     https://i.scdn.co/image/ab67616d0000b273abdad4...  \n",
       "1     https://i.scdn.co/image/ab67616d0000b273e193ef...  \n",
       "2     https://i.scdn.co/image/ab67616d0000b27320b60e...  \n",
       "3     https://i.scdn.co/image/ab67616d0000b2733c5cd1...  \n",
       "4     https://i.scdn.co/image/ab67616d0000b273684f5e...  \n",
       "...                                                 ...  \n",
       "5061  https://i.scdn.co/image/ab67616d0000b27351ad16...  \n",
       "5062  https://i.scdn.co/image/ab67616d0000b2736c050d...  \n",
       "5063  https://i.scdn.co/image/ab67616d0000b27351ad16...  \n",
       "5064  https://i.scdn.co/image/ab67616d0000b2736c050d...  \n",
       "5065  https://i.scdn.co/image/ab67616d0000b2736c050d...  \n",
       "\n",
       "[5066 rows x 9 columns]"
      ]
     },
     "execution_count": 85,
     "metadata": {},
     "output_type": "execute_result"
    }
   ],
   "source": [
    "music_data"
   ]
  },
  {
   "cell_type": "code",
   "execution_count": 87,
   "id": "ba34efea",
   "metadata": {},
   "outputs": [
    {
     "data": {
      "text/plain": [
       "(5066, 9)"
      ]
     },
     "execution_count": 87,
     "metadata": {},
     "output_type": "execute_result"
    }
   ],
   "source": [
    "music_data.shape"
   ]
  },
  {
   "cell_type": "markdown",
   "id": "dc3bd74f",
   "metadata": {},
   "source": [
    "## THIS IS FOR SCRAPING SONG LINK < ---"
   ]
  },
  {
   "cell_type": "code",
   "execution_count": 43,
   "id": "2bb29ecc",
   "metadata": {},
   "outputs": [],
   "source": [
    "songs_and_artists = music_data[['track_name','artist_name']]"
   ]
  },
  {
   "cell_type": "code",
   "execution_count": 44,
   "id": "6ea10f9e",
   "metadata": {},
   "outputs": [
    {
     "data": {
      "text/html": [
       "<div>\n",
       "<style scoped>\n",
       "    .dataframe tbody tr th:only-of-type {\n",
       "        vertical-align: middle;\n",
       "    }\n",
       "\n",
       "    .dataframe tbody tr th {\n",
       "        vertical-align: top;\n",
       "    }\n",
       "\n",
       "    .dataframe thead th {\n",
       "        text-align: right;\n",
       "    }\n",
       "</style>\n",
       "<table border=\"1\" class=\"dataframe\">\n",
       "  <thead>\n",
       "    <tr style=\"text-align: right;\">\n",
       "      <th></th>\n",
       "      <th>track_name</th>\n",
       "      <th>artist_name</th>\n",
       "    </tr>\n",
       "  </thead>\n",
       "  <tbody>\n",
       "    <tr>\n",
       "      <th>150</th>\n",
       "      <td>in the garden</td>\n",
       "      <td>perry como</td>\n",
       "    </tr>\n",
       "    <tr>\n",
       "      <th>151</th>\n",
       "      <td>he's got the whole world in his hands</td>\n",
       "      <td>perry como</td>\n",
       "    </tr>\n",
       "    <tr>\n",
       "      <th>152</th>\n",
       "      <td>birth of the blues</td>\n",
       "      <td>perry como</td>\n",
       "    </tr>\n",
       "    <tr>\n",
       "      <th>153</th>\n",
       "      <td>where can i go?</td>\n",
       "      <td>johnny mathis</td>\n",
       "    </tr>\n",
       "    <tr>\n",
       "      <th>154</th>\n",
       "      <td>夢斷巫山</td>\n",
       "      <td>張露</td>\n",
       "    </tr>\n",
       "  </tbody>\n",
       "</table>\n",
       "</div>"
      ],
      "text/plain": [
       "                                track_name    artist_name\n",
       "150                          in the garden     perry como\n",
       "151  he's got the whole world in his hands     perry como\n",
       "152                     birth of the blues     perry como\n",
       "153                        where can i go?  johnny mathis\n",
       "154                                   夢斷巫山             張露"
      ]
     },
     "execution_count": 44,
     "metadata": {},
     "output_type": "execute_result"
    }
   ],
   "source": [
    "songs_and_artists.iloc[150:155]"
   ]
  },
  {
   "cell_type": "code",
   "execution_count": 45,
   "id": "2961bfc5",
   "metadata": {},
   "outputs": [],
   "source": [
    "songs_and_artists = songs_and_artists[songs_and_artists['track_name'].map(lambda x: x.isascii())]"
   ]
  },
  {
   "cell_type": "code",
   "execution_count": 46,
   "id": "b712c6ad",
   "metadata": {},
   "outputs": [
    {
     "data": {
      "text/plain": [
       "(5066, 2)"
      ]
     },
     "execution_count": 46,
     "metadata": {},
     "output_type": "execute_result"
    }
   ],
   "source": [
    "songs_and_artists.shape"
   ]
  },
  {
   "cell_type": "code",
   "execution_count": 47,
   "id": "3f28c624",
   "metadata": {},
   "outputs": [
    {
     "data": {
      "text/html": [
       "<div>\n",
       "<style scoped>\n",
       "    .dataframe tbody tr th:only-of-type {\n",
       "        vertical-align: middle;\n",
       "    }\n",
       "\n",
       "    .dataframe tbody tr th {\n",
       "        vertical-align: top;\n",
       "    }\n",
       "\n",
       "    .dataframe thead th {\n",
       "        text-align: right;\n",
       "    }\n",
       "</style>\n",
       "<table border=\"1\" class=\"dataframe\">\n",
       "  <thead>\n",
       "    <tr style=\"text-align: right;\">\n",
       "      <th></th>\n",
       "      <th>track_name</th>\n",
       "      <th>artist_name</th>\n",
       "    </tr>\n",
       "  </thead>\n",
       "  <tbody>\n",
       "    <tr>\n",
       "      <th>5</th>\n",
       "      <td>round and round (with mitchell ayres and his o...</td>\n",
       "      <td>perry como</td>\n",
       "    </tr>\n",
       "    <tr>\n",
       "      <th>6</th>\n",
       "      <td>opm medley: when i met you</td>\n",
       "      <td>freestyle</td>\n",
       "    </tr>\n",
       "    <tr>\n",
       "      <th>7</th>\n",
       "      <td>it's not for me to say</td>\n",
       "      <td>johnny mathis</td>\n",
       "    </tr>\n",
       "    <tr>\n",
       "      <th>8</th>\n",
       "      <td>klapse me mana klapse me</td>\n",
       "      <td>stélios kazantzídis</td>\n",
       "    </tr>\n",
       "    <tr>\n",
       "      <th>9</th>\n",
       "      <td>finito la mouzika</td>\n",
       "      <td>stélios kazantzídis</td>\n",
       "    </tr>\n",
       "    <tr>\n",
       "      <th>11</th>\n",
       "      <td>carolina moon</td>\n",
       "      <td>the chordettes</td>\n",
       "    </tr>\n",
       "    <tr>\n",
       "      <th>12</th>\n",
       "      <td>necessary evil</td>\n",
       "      <td>frankie laine</td>\n",
       "    </tr>\n",
       "    <tr>\n",
       "      <th>13</th>\n",
       "      <td>kanugona galano</td>\n",
       "      <td>ghantasala</td>\n",
       "    </tr>\n",
       "    <tr>\n",
       "      <th>14</th>\n",
       "      <td>the carioca</td>\n",
       "      <td>les paul</td>\n",
       "    </tr>\n",
       "    <tr>\n",
       "      <th>15</th>\n",
       "      <td>chicken reel</td>\n",
       "      <td>les paul</td>\n",
       "    </tr>\n",
       "  </tbody>\n",
       "</table>\n",
       "</div>"
      ],
      "text/plain": [
       "                                           track_name          artist_name\n",
       "5   round and round (with mitchell ayres and his o...           perry como\n",
       "6                          opm medley: when i met you            freestyle\n",
       "7                              it's not for me to say        johnny mathis\n",
       "8                            klapse me mana klapse me  stélios kazantzídis\n",
       "9                                   finito la mouzika  stélios kazantzídis\n",
       "11                                      carolina moon       the chordettes\n",
       "12                                     necessary evil        frankie laine\n",
       "13                                    kanugona galano           ghantasala\n",
       "14                                        the carioca             les paul\n",
       "15                                       chicken reel             les paul"
      ]
     },
     "execution_count": 47,
     "metadata": {},
     "output_type": "execute_result"
    }
   ],
   "source": [
    "songs_and_artists.iloc[5:15]"
   ]
  },
  {
   "cell_type": "code",
   "execution_count": 40,
   "id": "14e55d52",
   "metadata": {},
   "outputs": [],
   "source": [
    "# songs_and_artists['index'] = range(1, len(songs_and_artists) + 1)"
   ]
  },
  {
   "cell_type": "code",
   "execution_count": 48,
   "id": "c1ad7cb4",
   "metadata": {},
   "outputs": [
    {
     "data": {
      "text/html": [
       "<div>\n",
       "<style scoped>\n",
       "    .dataframe tbody tr th:only-of-type {\n",
       "        vertical-align: middle;\n",
       "    }\n",
       "\n",
       "    .dataframe tbody tr th {\n",
       "        vertical-align: top;\n",
       "    }\n",
       "\n",
       "    .dataframe thead th {\n",
       "        text-align: right;\n",
       "    }\n",
       "</style>\n",
       "<table border=\"1\" class=\"dataframe\">\n",
       "  <thead>\n",
       "    <tr style=\"text-align: right;\">\n",
       "      <th></th>\n",
       "      <th>track_name</th>\n",
       "      <th>artist_name</th>\n",
       "    </tr>\n",
       "  </thead>\n",
       "  <tbody>\n",
       "    <tr>\n",
       "      <th>5</th>\n",
       "      <td>round and round (with mitchell ayres and his o...</td>\n",
       "      <td>perry como</td>\n",
       "    </tr>\n",
       "    <tr>\n",
       "      <th>6</th>\n",
       "      <td>opm medley: when i met you</td>\n",
       "      <td>freestyle</td>\n",
       "    </tr>\n",
       "    <tr>\n",
       "      <th>7</th>\n",
       "      <td>it's not for me to say</td>\n",
       "      <td>johnny mathis</td>\n",
       "    </tr>\n",
       "    <tr>\n",
       "      <th>8</th>\n",
       "      <td>klapse me mana klapse me</td>\n",
       "      <td>stélios kazantzídis</td>\n",
       "    </tr>\n",
       "    <tr>\n",
       "      <th>9</th>\n",
       "      <td>finito la mouzika</td>\n",
       "      <td>stélios kazantzídis</td>\n",
       "    </tr>\n",
       "    <tr>\n",
       "      <th>11</th>\n",
       "      <td>carolina moon</td>\n",
       "      <td>the chordettes</td>\n",
       "    </tr>\n",
       "    <tr>\n",
       "      <th>12</th>\n",
       "      <td>necessary evil</td>\n",
       "      <td>frankie laine</td>\n",
       "    </tr>\n",
       "    <tr>\n",
       "      <th>13</th>\n",
       "      <td>kanugona galano</td>\n",
       "      <td>ghantasala</td>\n",
       "    </tr>\n",
       "    <tr>\n",
       "      <th>14</th>\n",
       "      <td>the carioca</td>\n",
       "      <td>les paul</td>\n",
       "    </tr>\n",
       "    <tr>\n",
       "      <th>15</th>\n",
       "      <td>chicken reel</td>\n",
       "      <td>les paul</td>\n",
       "    </tr>\n",
       "  </tbody>\n",
       "</table>\n",
       "</div>"
      ],
      "text/plain": [
       "                                           track_name          artist_name\n",
       "5   round and round (with mitchell ayres and his o...           perry como\n",
       "6                          opm medley: when i met you            freestyle\n",
       "7                              it's not for me to say        johnny mathis\n",
       "8                            klapse me mana klapse me  stélios kazantzídis\n",
       "9                                   finito la mouzika  stélios kazantzídis\n",
       "11                                      carolina moon       the chordettes\n",
       "12                                     necessary evil        frankie laine\n",
       "13                                    kanugona galano           ghantasala\n",
       "14                                        the carioca             les paul\n",
       "15                                       chicken reel             les paul"
      ]
     },
     "execution_count": 48,
     "metadata": {},
     "output_type": "execute_result"
    }
   ],
   "source": [
    "songs_and_artists.iloc[5:15]"
   ]
  },
  {
   "cell_type": "code",
   "execution_count": 14,
   "id": "e229c04d",
   "metadata": {},
   "outputs": [],
   "source": [
    "pokemon_games = songs_and_artists.loc[songs_and_artists['artist_name'].str.contains(\"green day\", case=False)]"
   ]
  },
  {
   "cell_type": "code",
   "execution_count": 49,
   "id": "743adf16",
   "metadata": {},
   "outputs": [],
   "source": [
    "songs_and_artists.to_csv('songs_and_artists.csv')"
   ]
  },
  {
   "cell_type": "markdown",
   "id": "800f946e",
   "metadata": {},
   "source": [
    "# ..upto here --- >>>"
   ]
  },
  {
   "cell_type": "code",
   "execution_count": 88,
   "id": "2ccad93c",
   "metadata": {},
   "outputs": [
    {
     "data": {
      "text/plain": [
       "index           0\n",
       "artist_name     0\n",
       "track_name      0\n",
       "release_date    0\n",
       "genre           0\n",
       "lyrics          0\n",
       "topic           0\n",
       "spotify_link    0\n",
       "image_link      0\n",
       "dtype: int64"
      ]
     },
     "execution_count": 88,
     "metadata": {},
     "output_type": "execute_result"
    }
   ],
   "source": [
    "music_data.isnull().sum()"
   ]
  },
  {
   "cell_type": "code",
   "execution_count": 89,
   "id": "eedc9add",
   "metadata": {},
   "outputs": [
    {
     "data": {
      "text/plain": [
       "0"
      ]
     },
     "execution_count": 89,
     "metadata": {},
     "output_type": "execute_result"
    }
   ],
   "source": [
    "music_data.duplicated().sum()"
   ]
  },
  {
   "cell_type": "code",
   "execution_count": 52,
   "id": "6d109ce6",
   "metadata": {},
   "outputs": [],
   "source": [
    "#adding first and last name of the Artist so our recommender system does not get confused,\n",
    "#as different artists may have the same First or Last name\n",
    "# df['A'] = df['A'].str.replace(\" \", \"\")\n",
    "music_data['artist_name'] = music_data['artist_name'].str.replace(\" \",\"\");"
   ]
  },
  {
   "cell_type": "code",
   "execution_count": 90,
   "id": "d07dcc18",
   "metadata": {},
   "outputs": [
    {
     "data": {
      "text/plain": [
       "0                    mukesh\n",
       "1              frankielaine\n",
       "2                johnnieray\n",
       "3                pérezprado\n",
       "4       giorgospapadopoulos\n",
       "               ...         \n",
       "5061            billytalent\n",
       "5062                    afi\n",
       "5063            billytalent\n",
       "5064                    afi\n",
       "5065                    afi\n",
       "Name: artist_name, Length: 5066, dtype: object"
      ]
     },
     "execution_count": 90,
     "metadata": {},
     "output_type": "execute_result"
    }
   ],
   "source": [
    "music_data['artist_name']"
   ]
  },
  {
   "cell_type": "markdown",
   "id": "5587928f",
   "metadata": {},
   "source": [
    "### COMBINING COLUMNS"
   ]
  },
  {
   "cell_type": "code",
   "execution_count": 91,
   "id": "3ee109d0",
   "metadata": {},
   "outputs": [],
   "source": [
    "#Combining genre\tlyrics\ttopic into tags\n",
    "music_data['tags'] = music_data['genre'] + ' ' + music_data['lyrics'] + ' ' + music_data['topic']+ ' ' + music_data['artist_name']"
   ]
  },
  {
   "cell_type": "code",
   "execution_count": 92,
   "id": "7d9922ae",
   "metadata": {},
   "outputs": [
    {
     "data": {
      "text/html": [
       "<div>\n",
       "<style scoped>\n",
       "    .dataframe tbody tr th:only-of-type {\n",
       "        vertical-align: middle;\n",
       "    }\n",
       "\n",
       "    .dataframe tbody tr th {\n",
       "        vertical-align: top;\n",
       "    }\n",
       "\n",
       "    .dataframe thead th {\n",
       "        text-align: right;\n",
       "    }\n",
       "</style>\n",
       "<table border=\"1\" class=\"dataframe\">\n",
       "  <thead>\n",
       "    <tr style=\"text-align: right;\">\n",
       "      <th></th>\n",
       "      <th>index</th>\n",
       "      <th>artist_name</th>\n",
       "      <th>track_name</th>\n",
       "      <th>release_date</th>\n",
       "      <th>genre</th>\n",
       "      <th>lyrics</th>\n",
       "      <th>topic</th>\n",
       "      <th>spotify_link</th>\n",
       "      <th>image_link</th>\n",
       "      <th>tags</th>\n",
       "    </tr>\n",
       "  </thead>\n",
       "  <tbody>\n",
       "    <tr>\n",
       "      <th>0</th>\n",
       "      <td>0</td>\n",
       "      <td>mukesh</td>\n",
       "      <td>mohabbat bhi jhoothi</td>\n",
       "      <td>1950</td>\n",
       "      <td>pop</td>\n",
       "      <td>hold time feel break feel untrue convince spea...</td>\n",
       "      <td>sadness</td>\n",
       "      <td>https://open.spotify.com/track/4LABao9yb34Gfjb...</td>\n",
       "      <td>https://i.scdn.co/image/ab67616d0000b273abdad4...</td>\n",
       "      <td>pop hold time feel break feel untrue convince ...</td>\n",
       "    </tr>\n",
       "    <tr>\n",
       "      <th>1</th>\n",
       "      <td>1</td>\n",
       "      <td>frankielaine</td>\n",
       "      <td>i believe</td>\n",
       "      <td>1950</td>\n",
       "      <td>pop</td>\n",
       "      <td>believe drop rain fall grow believe darkest ni...</td>\n",
       "      <td>world/life</td>\n",
       "      <td>https://open.spotify.com/track/3FzkbFgVGdg4zqy...</td>\n",
       "      <td>https://i.scdn.co/image/ab67616d0000b273e193ef...</td>\n",
       "      <td>pop believe drop rain fall grow believe darkes...</td>\n",
       "    </tr>\n",
       "    <tr>\n",
       "      <th>2</th>\n",
       "      <td>2</td>\n",
       "      <td>johnnieray</td>\n",
       "      <td>cry</td>\n",
       "      <td>1950</td>\n",
       "      <td>pop</td>\n",
       "      <td>sweetheart send letter goodbye secret feel bet...</td>\n",
       "      <td>music</td>\n",
       "      <td>https://open.spotify.com/track/4wnFpRgQu2gLN8d...</td>\n",
       "      <td>https://i.scdn.co/image/ab67616d0000b27320b60e...</td>\n",
       "      <td>pop sweetheart send letter goodbye secret feel...</td>\n",
       "    </tr>\n",
       "    <tr>\n",
       "      <th>3</th>\n",
       "      <td>3</td>\n",
       "      <td>pérezprado</td>\n",
       "      <td>patricia</td>\n",
       "      <td>1950</td>\n",
       "      <td>pop</td>\n",
       "      <td>kiss lips want stroll charm mambo chacha merin...</td>\n",
       "      <td>romantic</td>\n",
       "      <td>https://open.spotify.com/track/2bwhOdCOLgQ8v6x...</td>\n",
       "      <td>https://i.scdn.co/image/ab67616d0000b2733c5cd1...</td>\n",
       "      <td>pop kiss lips want stroll charm mambo chacha m...</td>\n",
       "    </tr>\n",
       "    <tr>\n",
       "      <th>4</th>\n",
       "      <td>4</td>\n",
       "      <td>giorgospapadopoulos</td>\n",
       "      <td>apopse eida oneiro</td>\n",
       "      <td>1950</td>\n",
       "      <td>pop</td>\n",
       "      <td>till darling till matter know till dream live ...</td>\n",
       "      <td>romantic</td>\n",
       "      <td>https://open.spotify.com/track/4ca9GU42IT0yopm...</td>\n",
       "      <td>https://i.scdn.co/image/ab67616d0000b273684f5e...</td>\n",
       "      <td>pop till darling till matter know till dream l...</td>\n",
       "    </tr>\n",
       "  </tbody>\n",
       "</table>\n",
       "</div>"
      ],
      "text/plain": [
       "   index          artist_name            track_name  release_date genre   \n",
       "0      0               mukesh  mohabbat bhi jhoothi          1950   pop  \\\n",
       "1      1         frankielaine             i believe          1950   pop   \n",
       "2      2           johnnieray                   cry          1950   pop   \n",
       "3      3           pérezprado              patricia          1950   pop   \n",
       "4      4  giorgospapadopoulos    apopse eida oneiro          1950   pop   \n",
       "\n",
       "                                              lyrics       topic   \n",
       "0  hold time feel break feel untrue convince spea...     sadness  \\\n",
       "1  believe drop rain fall grow believe darkest ni...  world/life   \n",
       "2  sweetheart send letter goodbye secret feel bet...       music   \n",
       "3  kiss lips want stroll charm mambo chacha merin...    romantic   \n",
       "4  till darling till matter know till dream live ...    romantic   \n",
       "\n",
       "                                        spotify_link   \n",
       "0  https://open.spotify.com/track/4LABao9yb34Gfjb...  \\\n",
       "1  https://open.spotify.com/track/3FzkbFgVGdg4zqy...   \n",
       "2  https://open.spotify.com/track/4wnFpRgQu2gLN8d...   \n",
       "3  https://open.spotify.com/track/2bwhOdCOLgQ8v6x...   \n",
       "4  https://open.spotify.com/track/4ca9GU42IT0yopm...   \n",
       "\n",
       "                                          image_link   \n",
       "0  https://i.scdn.co/image/ab67616d0000b273abdad4...  \\\n",
       "1  https://i.scdn.co/image/ab67616d0000b273e193ef...   \n",
       "2  https://i.scdn.co/image/ab67616d0000b27320b60e...   \n",
       "3  https://i.scdn.co/image/ab67616d0000b2733c5cd1...   \n",
       "4  https://i.scdn.co/image/ab67616d0000b273684f5e...   \n",
       "\n",
       "                                                tags  \n",
       "0  pop hold time feel break feel untrue convince ...  \n",
       "1  pop believe drop rain fall grow believe darkes...  \n",
       "2  pop sweetheart send letter goodbye secret feel...  \n",
       "3  pop kiss lips want stroll charm mambo chacha m...  \n",
       "4  pop till darling till matter know till dream l...  "
      ]
     },
     "execution_count": 92,
     "metadata": {},
     "output_type": "execute_result"
    }
   ],
   "source": [
    "music_data.head()"
   ]
  },
  {
   "cell_type": "code",
   "execution_count": 93,
   "id": "1780cc3b",
   "metadata": {},
   "outputs": [
    {
     "data": {
      "text/plain": [
       "'pop hold time feel break feel untrue convince speak voice tear try hold hurt try forgive okay play break string feel heart want feel tell real truth hurt lie worse anymore little turn dust play house ruin run leave save like chase train late late tear try hold hurt try forgive okay play break string feel heart want feel tell real truth hurt lie worse anymore little run leave save like chase train know late late play break string feel heart want feel tell real truth hurt lie worse anymore little know little hold time feel sadness mukesh'"
      ]
     },
     "execution_count": 93,
     "metadata": {},
     "output_type": "execute_result"
    }
   ],
   "source": [
    "music_data['tags'][0]"
   ]
  },
  {
   "cell_type": "code",
   "execution_count": 94,
   "id": "45ba979c",
   "metadata": {},
   "outputs": [
    {
     "data": {
      "text/plain": [
       "(5066, 10)"
      ]
     },
     "execution_count": 94,
     "metadata": {},
     "output_type": "execute_result"
    }
   ],
   "source": [
    "music_data.shape"
   ]
  },
  {
   "cell_type": "code",
   "execution_count": 58,
   "id": "0b0d9561",
   "metadata": {},
   "outputs": [],
   "source": [
    "# FOR REMOVING NON-ENGLISH NAMES\n",
    "# music_data = music_data[music_data['track_name'].map(lambda x: x.isascii())]"
   ]
  },
  {
   "cell_type": "code",
   "execution_count": 95,
   "id": "fbdeb9b2",
   "metadata": {},
   "outputs": [
    {
     "data": {
      "text/plain": [
       "(5066, 10)"
      ]
     },
     "execution_count": 95,
     "metadata": {},
     "output_type": "execute_result"
    }
   ],
   "source": [
    "music_data.shape"
   ]
  },
  {
   "cell_type": "markdown",
   "id": "3d96d563",
   "metadata": {},
   "source": [
    "## Creating a common word for all similar words"
   ]
  },
  {
   "cell_type": "code",
   "execution_count": 96,
   "id": "38a78345",
   "metadata": {},
   "outputs": [
    {
     "name": "stdout",
     "output_type": "stream",
     "text": [
      "Requirement already satisfied: nltk in c:\\users\\asus\\anaconda3\\lib\\site-packages (3.8.1)\n",
      "Requirement already satisfied: regex>=2021.8.3 in c:\\users\\asus\\anaconda3\\lib\\site-packages (from nltk) (2023.3.23)\n",
      "Requirement already satisfied: joblib in c:\\users\\asus\\anaconda3\\lib\\site-packages (from nltk) (1.1.1)\n",
      "Requirement already satisfied: tqdm in c:\\users\\asus\\anaconda3\\lib\\site-packages (from nltk) (4.65.0)\n",
      "Requirement already satisfied: click in c:\\users\\asus\\anaconda3\\lib\\site-packages (from nltk) (8.0.4)\n",
      "Requirement already satisfied: colorama in c:\\users\\asus\\anaconda3\\lib\\site-packages (from click->nltk) (0.4.6)\n"
     ]
    }
   ],
   "source": [
    "#Apply stemming\n",
    "# loving,loves,lover => love\n",
    "!pip install nltk"
   ]
  },
  {
   "cell_type": "code",
   "execution_count": 97,
   "id": "ab355999",
   "metadata": {},
   "outputs": [],
   "source": [
    "import nltk"
   ]
  },
  {
   "cell_type": "code",
   "execution_count": 98,
   "id": "1590b047",
   "metadata": {},
   "outputs": [],
   "source": [
    "from nltk.stem.porter import PorterStemmer\n",
    "ps = PorterStemmer()"
   ]
  },
  {
   "cell_type": "code",
   "execution_count": 99,
   "id": "4447f200",
   "metadata": {},
   "outputs": [],
   "source": [
    "def stem(text):\n",
    "    y = []\n",
    "    \n",
    "    for i in text.split():\n",
    "        y.append(ps.stem(i))\n",
    "    \n",
    "    return \" \".join(y)"
   ]
  },
  {
   "cell_type": "code",
   "execution_count": 100,
   "id": "3fbddc77",
   "metadata": {},
   "outputs": [],
   "source": [
    "new_df = music_data[['track_name','artist_name','release_date','tags','spotify_link','image_link']]"
   ]
  },
  {
   "cell_type": "code",
   "execution_count": 101,
   "id": "095a8e5d",
   "metadata": {},
   "outputs": [
    {
     "name": "stderr",
     "output_type": "stream",
     "text": [
      "C:\\Users\\ASUS\\AppData\\Local\\Temp\\ipykernel_3208\\3213734980.py:1: SettingWithCopyWarning: \n",
      "A value is trying to be set on a copy of a slice from a DataFrame.\n",
      "Try using .loc[row_indexer,col_indexer] = value instead\n",
      "\n",
      "See the caveats in the documentation: https://pandas.pydata.org/pandas-docs/stable/user_guide/indexing.html#returning-a-view-versus-a-copy\n",
      "  new_df['tags'] = new_df['tags'].apply(stem)\n"
     ]
    }
   ],
   "source": [
    "new_df['tags'] = new_df['tags'].apply(stem)"
   ]
  },
  {
   "cell_type": "code",
   "execution_count": 1,
   "id": "70e18e9e",
   "metadata": {},
   "outputs": [
    {
     "ename": "NameError",
     "evalue": "name 'new_df' is not defined",
     "output_type": "error",
     "traceback": [
      "\u001b[1;31m---------------------------------------------------------------------------\u001b[0m",
      "\u001b[1;31mNameError\u001b[0m                                 Traceback (most recent call last)",
      "Cell \u001b[1;32mIn[1], line 1\u001b[0m\n\u001b[1;32m----> 1\u001b[0m new_df \u001b[38;5;241m=\u001b[39m \u001b[43mnew_df\u001b[49m[new_df[\u001b[38;5;124m'\u001b[39m\u001b[38;5;124mtrack_name\u001b[39m\u001b[38;5;124m'\u001b[39m]\u001b[38;5;241m.\u001b[39mmap(\u001b[38;5;28;01mlambda\u001b[39;00m x: x\u001b[38;5;241m.\u001b[39misascii())]\n",
      "\u001b[1;31mNameError\u001b[0m: name 'new_df' is not defined"
     ]
    }
   ],
   "source": [
    "# FOR REMOVING NON-ENGLISH NAMES\n",
    "new_df = new_df[new_df['track_name'].map(lambda x: x.isascii())]"
   ]
  },
  {
   "cell_type": "code",
   "execution_count": 104,
   "id": "829e2a30",
   "metadata": {},
   "outputs": [
    {
     "data": {
      "text/plain": [
       "(5066, 6)"
      ]
     },
     "execution_count": 104,
     "metadata": {},
     "output_type": "execute_result"
    }
   ],
   "source": [
    "new_df.shape"
   ]
  },
  {
   "cell_type": "code",
   "execution_count": 105,
   "id": "0b581de5",
   "metadata": {},
   "outputs": [
    {
     "data": {
      "text/html": [
       "<div>\n",
       "<style scoped>\n",
       "    .dataframe tbody tr th:only-of-type {\n",
       "        vertical-align: middle;\n",
       "    }\n",
       "\n",
       "    .dataframe tbody tr th {\n",
       "        vertical-align: top;\n",
       "    }\n",
       "\n",
       "    .dataframe thead th {\n",
       "        text-align: right;\n",
       "    }\n",
       "</style>\n",
       "<table border=\"1\" class=\"dataframe\">\n",
       "  <thead>\n",
       "    <tr style=\"text-align: right;\">\n",
       "      <th></th>\n",
       "      <th>track_name</th>\n",
       "      <th>artist_name</th>\n",
       "      <th>release_date</th>\n",
       "      <th>tags</th>\n",
       "      <th>spotify_link</th>\n",
       "      <th>image_link</th>\n",
       "    </tr>\n",
       "  </thead>\n",
       "  <tbody>\n",
       "    <tr>\n",
       "      <th>0</th>\n",
       "      <td>mohabbat bhi jhoothi</td>\n",
       "      <td>mukesh</td>\n",
       "      <td>1950</td>\n",
       "      <td>pop hold time feel break feel untru convinc sp...</td>\n",
       "      <td>https://open.spotify.com/track/4LABao9yb34Gfjb...</td>\n",
       "      <td>https://i.scdn.co/image/ab67616d0000b273abdad4...</td>\n",
       "    </tr>\n",
       "    <tr>\n",
       "      <th>1</th>\n",
       "      <td>i believe</td>\n",
       "      <td>frankielaine</td>\n",
       "      <td>1950</td>\n",
       "      <td>pop believ drop rain fall grow believ darkest ...</td>\n",
       "      <td>https://open.spotify.com/track/3FzkbFgVGdg4zqy...</td>\n",
       "      <td>https://i.scdn.co/image/ab67616d0000b273e193ef...</td>\n",
       "    </tr>\n",
       "  </tbody>\n",
       "</table>\n",
       "</div>"
      ],
      "text/plain": [
       "             track_name   artist_name  release_date   \n",
       "0  mohabbat bhi jhoothi        mukesh          1950  \\\n",
       "1             i believe  frankielaine          1950   \n",
       "\n",
       "                                                tags   \n",
       "0  pop hold time feel break feel untru convinc sp...  \\\n",
       "1  pop believ drop rain fall grow believ darkest ...   \n",
       "\n",
       "                                        spotify_link   \n",
       "0  https://open.spotify.com/track/4LABao9yb34Gfjb...  \\\n",
       "1  https://open.spotify.com/track/3FzkbFgVGdg4zqy...   \n",
       "\n",
       "                                          image_link  \n",
       "0  https://i.scdn.co/image/ab67616d0000b273abdad4...  \n",
       "1  https://i.scdn.co/image/ab67616d0000b273e193ef...  "
      ]
     },
     "execution_count": 105,
     "metadata": {},
     "output_type": "execute_result"
    }
   ],
   "source": [
    "new_df.head(2)"
   ]
  },
  {
   "cell_type": "markdown",
   "id": "eb09eae8",
   "metadata": {},
   "source": [
    "## Vectorization and Calculating similarity"
   ]
  },
  {
   "cell_type": "code",
   "execution_count": 106,
   "id": "22a05d32",
   "metadata": {},
   "outputs": [
    {
     "name": "stdout",
     "output_type": "stream",
     "text": [
      "Requirement already satisfied: scikit-learn in c:\\users\\asus\\anaconda3\\lib\\site-packages (1.2.2)\n",
      "Requirement already satisfied: scipy in c:\\users\\asus\\anaconda3\\lib\\site-packages (1.10.1)\n",
      "Requirement already satisfied: matplotlib in c:\\users\\asus\\anaconda3\\lib\\site-packages (3.7.1)\n",
      "Requirement already satisfied: numpy in c:\\users\\asus\\anaconda3\\lib\\site-packages (1.23.5)\n",
      "Requirement already satisfied: threadpoolctl>=2.0.0 in c:\\users\\asus\\anaconda3\\lib\\site-packages (from scikit-learn) (2.2.0)\n",
      "Requirement already satisfied: joblib>=1.1.1 in c:\\users\\asus\\anaconda3\\lib\\site-packages (from scikit-learn) (1.1.1)\n",
      "Requirement already satisfied: pyparsing>=2.3.1 in c:\\users\\asus\\anaconda3\\lib\\site-packages (from matplotlib) (3.0.9)\n",
      "Requirement already satisfied: contourpy>=1.0.1 in c:\\users\\asus\\anaconda3\\lib\\site-packages (from matplotlib) (1.0.7)\n",
      "Requirement already satisfied: packaging>=20.0 in c:\\users\\asus\\anaconda3\\lib\\site-packages (from matplotlib) (23.0)\n",
      "Requirement already satisfied: pillow>=6.2.0 in c:\\users\\asus\\anaconda3\\lib\\site-packages (from matplotlib) (9.4.0)\n",
      "Requirement already satisfied: kiwisolver>=1.0.1 in c:\\users\\asus\\anaconda3\\lib\\site-packages (from matplotlib) (1.4.4)\n",
      "Requirement already satisfied: cycler>=0.10 in c:\\users\\asus\\anaconda3\\lib\\site-packages (from matplotlib) (0.11.0)\n",
      "Requirement already satisfied: fonttools>=4.22.0 in c:\\users\\asus\\anaconda3\\lib\\site-packages (from matplotlib) (4.39.3)\n",
      "Requirement already satisfied: python-dateutil>=2.7 in c:\\users\\asus\\anaconda3\\lib\\site-packages (from matplotlib) (2.8.2)\n",
      "Requirement already satisfied: six>=1.5 in c:\\users\\asus\\anaconda3\\lib\\site-packages (from python-dateutil>=2.7->matplotlib) (1.16.0)\n"
     ]
    }
   ],
   "source": [
    "!pip install scikit-learn scipy matplotlib numpy"
   ]
  },
  {
   "cell_type": "code",
   "execution_count": 107,
   "id": "ce377841",
   "metadata": {},
   "outputs": [],
   "source": [
    "# Vectorization using \"BAG OF WORDS\"\n",
    "# max_features=5000 it is the dimensionality on which our vector similarity will be calcuated\n",
    "# --Do not use stop words(are,in,to,from,etc)--\n",
    "import sklearn\n",
    "from sklearn.feature_extraction.text import CountVectorizer\n",
    "cv = CountVectorizer(max_features=5000, stop_words='english')"
   ]
  },
  {
   "cell_type": "code",
   "execution_count": 108,
   "id": "4c2d4295",
   "metadata": {},
   "outputs": [],
   "source": [
    "vectors = cv.fit_transform(new_df['tags']).toarray()"
   ]
  },
  {
   "cell_type": "code",
   "execution_count": 109,
   "id": "2cb73e45",
   "metadata": {},
   "outputs": [
    {
     "data": {
      "text/plain": [
       "array([[0, 0, 0, ..., 0, 0, 0],\n",
       "       [0, 0, 0, ..., 0, 0, 0],\n",
       "       [0, 0, 0, ..., 0, 0, 0],\n",
       "       ...,\n",
       "       [0, 0, 0, ..., 0, 0, 0],\n",
       "       [0, 0, 0, ..., 0, 0, 0],\n",
       "       [0, 0, 0, ..., 0, 0, 0]], dtype=int64)"
      ]
     },
     "execution_count": 109,
     "metadata": {},
     "output_type": "execute_result"
    }
   ],
   "source": [
    "vectors"
   ]
  },
  {
   "cell_type": "code",
   "execution_count": 110,
   "id": "1b3bf236",
   "metadata": {},
   "outputs": [
    {
     "data": {
      "text/plain": [
       "array(['000maniac', '10', '10cc', ..., 'zombi', 'zone', '쿵더러러'],\n",
       "      dtype=object)"
      ]
     },
     "execution_count": 110,
     "metadata": {},
     "output_type": "execute_result"
    }
   ],
   "source": [
    "cv.get_feature_names_out()"
   ]
  },
  {
   "cell_type": "code",
   "execution_count": 111,
   "id": "68ed2a76",
   "metadata": {},
   "outputs": [],
   "source": [
    "from sklearn.metrics.pairwise import cosine_similarity"
   ]
  },
  {
   "cell_type": "code",
   "execution_count": 112,
   "id": "8134699f",
   "metadata": {},
   "outputs": [],
   "source": [
    "similarity = cosine_similarity(vectors)"
   ]
  },
  {
   "cell_type": "code",
   "execution_count": 122,
   "id": "a106c308",
   "metadata": {},
   "outputs": [
    {
     "data": {
      "text/plain": [
       "[(3351, 0.5302590043916369),\n",
       " (4135, 0.5059279671804405),\n",
       " (2516, 0.5005836608552532),\n",
       " (1917, 0.4961543916190649),\n",
       " (5059, 0.4933802089452784)]"
      ]
     },
     "execution_count": 122,
     "metadata": {},
     "output_type": "execute_result"
    }
   ],
   "source": [
    "sorted(list(enumerate(similarity[0])),reverse=True,key=lambda x:x[1])[1:6]"
   ]
  },
  {
   "cell_type": "code",
   "execution_count": 113,
   "id": "38a99c8c",
   "metadata": {},
   "outputs": [
    {
     "data": {
      "text/plain": [
       "(5066, 5066)"
      ]
     },
     "execution_count": 113,
     "metadata": {},
     "output_type": "execute_result"
    }
   ],
   "source": [
    "similarity.shape"
   ]
  },
  {
   "cell_type": "code",
   "execution_count": 137,
   "id": "04c22886",
   "metadata": {},
   "outputs": [],
   "source": [
    "def recommend(music):\n",
    "    \n",
    "    #find index of the given song\n",
    "    music_index = new_df[new_df['track_name'] == music].index[0]\n",
    "    \n",
    "    #set a variable that coincdes with that index in similarity array\n",
    "    distances = similarity[music_index]\n",
    "    \n",
    "    #sort the distances but use enumerate to preserve the actual index of the song\n",
    "    music_list = sorted(list(enumerate(distances)),reverse=True,key=lambda x:x[1])[1:6]\n",
    "    \n",
    "    #make list of the top 5 movies\n",
    "    data = []\n",
    "    for i in music_list:\n",
    "        temp_data = []\n",
    "        temp_data.append(new_df.iloc[i[0]].track_name)\n",
    "        temp_data.append(new_df.iloc[i[0]].image_link)\n",
    "        temp_data.append(new_df.iloc[i[0]].spotify_link)\n",
    "        \n",
    "        data.append(temp_data)\n",
    "    return data"
   ]
  },
  {
   "cell_type": "code",
   "execution_count": 143,
   "id": "5f5bef45",
   "metadata": {},
   "outputs": [
    {
     "data": {
      "text/plain": [
       "[['feel up',\n",
       "  'https://i.scdn.co/image/ab67616d0000b273c3a83072adb1a52cac58afa7',\n",
       "  'https://open.spotify.com/track/5mZAIkOc7gvRX0ycrzRZBX'],\n",
       " ['here in your bedroom',\n",
       "  'https://i.scdn.co/image/ab67616d0000b2730b3e647e045d9b46ba35170e',\n",
       "  'https://open.spotify.com/track/7MH63filSWHfjwMlQrlQQG'],\n",
       " ['feel it',\n",
       "  'https://i.scdn.co/image/ab67616d0000b27335538744db9802cea0559756',\n",
       "  'https://open.spotify.com/track/2VyUL1GiVhVmZHDXIX6NHG'],\n",
       " ['let yourself go',\n",
       "  'https://i.scdn.co/image/ab67616d0000b2737239696b89644a8a3fa16a7c',\n",
       "  'https://open.spotify.com/track/5kDs1n7w7K1BME8eKh82BF'],\n",
       " ['i feel love',\n",
       "  'https://i.scdn.co/image/ab67616d0000b2734863c8620f7c3fa135068768',\n",
       "  'https://open.spotify.com/track/7B7lf3sIze5VR2WuYttn18']]"
      ]
     },
     "execution_count": 143,
     "metadata": {},
     "output_type": "execute_result"
    }
   ],
   "source": [
    "recommend('cry')"
   ]
  },
  {
   "cell_type": "code",
   "execution_count": 144,
   "id": "ea4105a7",
   "metadata": {},
   "outputs": [
    {
     "data": {
      "text/plain": [
       "'feel up'"
      ]
     },
     "execution_count": 144,
     "metadata": {},
     "output_type": "execute_result"
    }
   ],
   "source": [
    "new_df.iloc[2516].track_name"
   ]
  },
  {
   "cell_type": "code",
   "execution_count": 145,
   "id": "bdf3f488",
   "metadata": {},
   "outputs": [
    {
     "data": {
      "text/plain": [
       "'https://i.scdn.co/image/ab67616d0000b273c3a83072adb1a52cac58afa7'"
      ]
     },
     "execution_count": 145,
     "metadata": {},
     "output_type": "execute_result"
    }
   ],
   "source": [
    "new_df.iloc[2516].image_link"
   ]
  },
  {
   "cell_type": "markdown",
   "id": "256d8c75",
   "metadata": {},
   "source": [
    "# Pickel Files"
   ]
  },
  {
   "cell_type": "code",
   "execution_count": 146,
   "id": "94a5224f",
   "metadata": {},
   "outputs": [],
   "source": [
    "import pickle"
   ]
  },
  {
   "cell_type": "code",
   "execution_count": 147,
   "id": "41d39fff",
   "metadata": {},
   "outputs": [],
   "source": [
    "pickle.dump(new_df,open('music.pkl','wb'))"
   ]
  },
  {
   "cell_type": "code",
   "execution_count": 148,
   "id": "5c12db06",
   "metadata": {},
   "outputs": [],
   "source": [
    "pickle.dump(similarity,open('similarity.pkl','wb'))"
   ]
  }
 ],
 "metadata": {
  "kernelspec": {
   "display_name": "Python 3 (ipykernel)",
   "language": "python",
   "name": "python3"
  },
  "language_info": {
   "codemirror_mode": {
    "name": "ipython",
    "version": 3
   },
   "file_extension": ".py",
   "mimetype": "text/x-python",
   "name": "python",
   "nbconvert_exporter": "python",
   "pygments_lexer": "ipython3",
   "version": "3.10.9"
  }
 },
 "nbformat": 4,
 "nbformat_minor": 5
}
